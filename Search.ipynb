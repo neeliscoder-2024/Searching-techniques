{
  "nbformat": 4,
  "nbformat_minor": 0,
  "metadata": {
    "colab": {
      "provenance": []
    },
    "kernelspec": {
      "name": "python3",
      "display_name": "Python 3"
    },
    "language_info": {
      "name": "python"
    }
  },
  "cells": [
    {
      "cell_type": "markdown",
      "source": [
        "▶ Linear Search : It is basically a searching technique which you to search the elements one by one for the given target out of the list."
      ],
      "metadata": {
        "id": "HmU-KSBGDUKV"
      }
    },
    {
      "cell_type": "markdown",
      "source": [
        "⚛ Example: arr=[4,9,2,7,5]\n",
        "           target = 7"
      ],
      "metadata": {
        "id": "Tz53rDdlDxg9"
      }
    },
    {
      "cell_type": "markdown",
      "source": [
        "✈ In this Program the time complexity is O(n) for large input size."
      ],
      "metadata": {
        "id": "4rp8UXHiGSRF"
      }
    },
    {
      "cell_type": "code",
      "execution_count": 1,
      "metadata": {
        "colab": {
          "base_uri": "https://localhost:8080/"
        },
        "id": "Q3_LzfNSC-9h",
        "outputId": "63ee2a55-dd7d-4aed-af78-42d6a8d20363"
      },
      "outputs": [
        {
          "output_type": "stream",
          "name": "stdout",
          "text": [
            "3\n"
          ]
        }
      ],
      "source": [
        "def linear_search(arr, target):\n",
        "  for i in range(len(arr)):\n",
        "    if arr[i]==target:\n",
        "      return i\n",
        "  return -1\n",
        "result=linear_search([4,9,2,7,5], 7)\n",
        "print(result)"
      ]
    },
    {
      "cell_type": "markdown",
      "source": [
        "⚛ Example: arr=[10,20,30,40] target=30"
      ],
      "metadata": {
        "id": "1qOAbsELIZKf"
      }
    },
    {
      "cell_type": "code",
      "source": [
        "def linear_search(arr,target):\n",
        "  for i in range(len(arr)):\n",
        "    if arr[i]==target:\n",
        "      return i\n",
        "  return -1\n",
        "result=linear_search([10,20,30,40],30)\n",
        "print(result)"
      ],
      "metadata": {
        "colab": {
          "base_uri": "https://localhost:8080/"
        },
        "id": "JRoDbjEaExtZ",
        "outputId": "a936ccea-2677-42cf-e41d-8137276126ab"
      },
      "execution_count": 2,
      "outputs": [
        {
          "output_type": "stream",
          "name": "stdout",
          "text": [
            "2\n"
          ]
        }
      ]
    },
    {
      "cell_type": "markdown",
      "source": [
        "⚛ Example: arr=[3,6,9,12,15] target=8"
      ],
      "metadata": {
        "id": "LmDUWAZeJcxl"
      }
    },
    {
      "cell_type": "code",
      "source": [
        "def linear_search(arr,target):\n",
        "  for i in range(len(arr)):\n",
        "    if arr[i]==target:\n",
        "      return i\n",
        "  return -1\n",
        "result=linear_search([3,6,9,12,15],8)\n",
        "print(result)"
      ],
      "metadata": {
        "colab": {
          "base_uri": "https://localhost:8080/"
        },
        "id": "QvwRMS0tJDFT",
        "outputId": "dd53e150-faca-4725-d433-8072fc4b8403"
      },
      "execution_count": 3,
      "outputs": [
        {
          "output_type": "stream",
          "name": "stdout",
          "text": [
            "-1\n"
          ]
        }
      ]
    },
    {
      "cell_type": "markdown",
      "source": [
        "⚛ Example: arr=[5,10,15,20,25] target=15"
      ],
      "metadata": {
        "id": "W50R8x5xKgR-"
      }
    },
    {
      "cell_type": "code",
      "source": [
        "def linear_search(arr,target):\n",
        "  for i in range(len(arr)):\n",
        "    if arr[i]>target:\n",
        "      return -1\n",
        "    if arr[i]==target:\n",
        "      return i\n",
        "  return -1\n",
        "result=linear_search([5,10,15,20,25],15)\n",
        "print(result)"
      ],
      "metadata": {
        "colab": {
          "base_uri": "https://localhost:8080/"
        },
        "id": "DRvDPQQKJ-Vr",
        "outputId": "a34fd12e-4281-4348-f5b3-1209127b02e7"
      },
      "execution_count": 4,
      "outputs": [
        {
          "output_type": "stream",
          "name": "stdout",
          "text": [
            "2\n"
          ]
        }
      ]
    },
    {
      "cell_type": "markdown",
      "source": [
        "⚛ Example: arr=[2,4,6,8,10] target=10"
      ],
      "metadata": {
        "id": "QyNu0au3PJNL"
      }
    },
    {
      "cell_type": "code",
      "source": [
        "def linear_search(arr,target):\n",
        "  target=10\n",
        "  for i in range(len(arr)):\n",
        "    index=-1\n",
        "    if arr[i]==target:\n",
        "      index=i\n",
        "  return index\n",
        "result=linear_search([2,4,6,8,10],10)\n",
        "print(result)"
      ],
      "metadata": {
        "colab": {
          "base_uri": "https://localhost:8080/"
        },
        "id": "14NdbbVfLJVO",
        "outputId": "1e36489a-ec40-4821-92d7-01512c0e6935"
      },
      "execution_count": 5,
      "outputs": [
        {
          "output_type": "stream",
          "name": "stdout",
          "text": [
            "4\n"
          ]
        }
      ]
    },
    {
      "cell_type": "markdown",
      "source": [
        "▶ Binary Search : In this type of searching technique we can seach with the sorted list or arry in accending or descending order.\n",
        "⚛ Example : arr=[2,4,6,8,10,12,14] target=10"
      ],
      "metadata": {
        "id": "lFNmnRH1SmtI"
      }
    },
    {
      "cell_type": "code",
      "source": [
        "def binary_search(arr, target):\n",
        "  low=0\n",
        "  high=len(arr)-1\n",
        "  while low<=high:\n",
        "    mid=(low+high)//2\n",
        "    if arr[mid]==target:\n",
        "      return mid\n",
        "    elif arr[mid]<target:\n",
        "      low=mid+1\n",
        "    else:\n",
        "      high=mid-1\n",
        "  return -1\n",
        "result=binary_search([2,4,6,8,10,12,14],10)\n",
        "print(result)"
      ],
      "metadata": {
        "colab": {
          "base_uri": "https://localhost:8080/"
        },
        "id": "JfSQXhB7Qc8T",
        "outputId": "cce27860-9fbb-45e3-d27f-b1504b32b717"
      },
      "execution_count": 7,
      "outputs": [
        {
          "output_type": "stream",
          "name": "stdout",
          "text": [
            "4\n"
          ]
        }
      ]
    },
    {
      "cell_type": "code",
      "source": [],
      "metadata": {
        "id": "nErHKkR9YhKM"
      },
      "execution_count": null,
      "outputs": []
    }
  ]
}